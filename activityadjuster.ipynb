{
 "cells": [
  {
   "cell_type": "code",
   "execution_count": null,
   "metadata": {
    "collapsed": true
   },
   "outputs": [],
   "source": [
    "#do i need to track what is being\n",
    "#created from decay or just whats left due to the decay of the isotopes present\n",
    "\n"
   ]
  },
  {
   "cell_type": "code",
   "execution_count": null,
   "metadata": {
    "collapsed": true
   },
   "outputs": [],
   "source": [
    "#DOCUMENTATION\n",
    "\n",
    "#SCRIPT FINDS ACTIVITIES AT THE TIMSTEPS 1 2 AND 3 AND \n",
    "#PRINTS THEM FOR USE IN EXCEL SHEET \"ACTIVITYWORKBOOK\"\n",
    "\n",
    "#LINE-lines of MCNP text files, array\n",
    "#zaid-MCNP zaid element identity, array\n",
    "\n"
   ]
  },
  {
   "cell_type": "code",
   "execution_count": 119,
   "metadata": {
    "collapsed": false
   },
   "outputs": [
    {
     "name": "stdout",
     "output_type": "stream",
     "text": [
      "List of nuclides with nonzero activity\n",
      "Element Zaid Activity [Ci]\n",
      "C14     6014   1.775E-03\n",
      "Se79     34079   4.336E-01\n",
      "Se82     34082   7.665E-16\n",
      "Kr85     36085   2.344E+02\n",
      "Rb87     37087   1.436E-05\n",
      "Sr90     38090   1.457E+04\n",
      "Y90     39090   1.458E+04\n",
      "Zr93     40093   1.266E+00\n",
      "Nb94     41094   4.519E-04\n",
      "Tc99     43099   9.520E+00\n",
      "Pd107     46107   1.230E-01\n",
      "Cd113     48113   2.411E-14\n",
      "In115     49115   4.141E-12\n",
      "Sn126     50126   5.067E-01\n",
      "Te123     52123   1.099E-12\n",
      "I129     53129   2.373E-02\n",
      "Cs135     55135   3.074E-01\n",
      "Cs137     55137   2.684E+04\n",
      "La138     57138   4.296E-10\n",
      "Ce142     58142   4.432E-11\n",
      "Nd144     60144   1.405E-09\n",
      "Nd145     60145   1.864E-11\n",
      "Pm147     61147   1.425E-01\n",
      "Sm147     62147   2.946E-06\n",
      "Sm148     62148   4.287E-11\n",
      "Sm149     62149   1.736E-12\n",
      "Sm151     62151   8.596E+01\n",
      "Eu152     63152   2.763E-02\n",
      "Eu154     63154   1.340E+02\n",
      "Eu155     63155   2.440E+00\n",
      "Gd152     64152   2.209E-13\n",
      "Th230     90230   2.224E-04\n",
      "Th232     90232   3.253E-10\n",
      "Pa231     91231   1.296E-05\n",
      "U232     92232   3.549E-03\n",
      "U233     92233   5.889E-05\n",
      "U234     92234   6.445E-01\n",
      "U235     92235   1.713E-03\n",
      "U236     92236   1.225E-01\n",
      "U238     92238   1.316E-01\n",
      "Np236     93236   1.641E-05\n",
      "Np237     93237   2.418E-01\n",
      "Pu238     94238   2.214E+03\n",
      "Pu239     94239   1.924E+02\n",
      "Pu240     94240   3.190E+02\n",
      "Pu241     94241   7.631E+03\n",
      "Pu242     94242   2.279E+00\n",
      "Am241     95241   2.438E+03\n"
     ]
    },
    {
     "name": "stderr",
     "output_type": "stream",
     "text": [
      "//anaconda/lib/python3.5/re.py:203: FutureWarning: split() requires a non-empty pattern match.\n",
      "  return _compile(pattern, flags).split(string, maxsplit)\n"
     ]
    }
   ],
   "source": [
    "#get text from MCNP files and index it\n",
    "from pyne import data\n",
    "from pyne import nucname\n",
    "import numpy as np\n",
    "import re\n",
    "filename1=\"nonactinide50yrs.txt\"\n",
    "filename2=\"actinide50yrs.txt\"\n",
    "LINE=[]\n",
    "file=open(filename1)\n",
    "for line in file:\n",
    "    LINE=np.append(LINE,line)\n",
    "file.close()    \n",
    "file=open(filename2)\n",
    "for line in file:\n",
    "    LINE=np.append(LINE,line)\n",
    "file.close()\n",
    "#initalize arrays \n",
    "zaid=[]\n",
    "activity=[]\n",
    "elements=[]\n",
    "PYNEID=[]\n",
    "#re expressions to read index array\n",
    "for i in range(len(LINE)):\n",
    "    y=re.split(r'\\s*',LINE[i])\n",
    "    #only take nonzero activities\n",
    "    if y[4]!='0.000E+00':\n",
    "        activity=np.append(activity,y[4]) \n",
    "        zaid=np.append(zaid,y[2]) #AAAZZZ \n",
    "print(\"List of nuclides with nonzero activity\")\n",
    "print(\"Element\",\"Zaid\",\"Activity [Ci]\")\n",
    "for i in range(len(zaid)):\n",
    "    #name the element\n",
    "    y=nucname.mcnp_to_id(zaid[i])\n",
    "    PYNEID=np.append(PYNEID,int(y))\n",
    "    x=nucname.name(y)\n",
    "    elements=np.append(elements,x)\n",
    "    print(elements[i],\"   \",zaid[i],\" \",activity[i])"
   ]
  },
  {
   "cell_type": "code",
   "execution_count": 5,
   "metadata": {
    "collapsed": false
   },
   "outputs": [
    {
     "name": "stdout",
     "output_type": "stream",
     "text": [
      "List of nuclides with nonzero activity\n",
      "Element Zaid Activity [Ci]\n",
      "C14     6014   1.785E-03\n",
      "Se79     34079   4.340E-01\n",
      "Se82     34082   7.665E-16\n",
      "Kr85     36085   4.293E+03\n",
      "Rb87     37087   1.436E-05\n",
      "Sr90     38090   4.410E+04\n",
      "Y90     39090   4.411E+04\n",
      "Zr93     40093   1.266E+00\n",
      "Nb94     41094   4.526E-04\n",
      "Tc99     43099   9.522E+00\n",
      "Ru106     44106   1.446E+04\n",
      "Pd107     46107   1.230E-01\n",
      "Cd113     48113   2.411E-14\n",
      "In115     49115   4.141E-12\n",
      "Sn126     50126   5.069E-01\n",
      "Sb125     51125   1.801E+03\n",
      "Te123     52123   1.099E-12\n",
      "I129     53129   2.373E-02\n",
      "Cs134     55134   3.587E+04\n",
      "Cs135     55135   3.074E-01\n",
      "Cs137     55137   7.585E+04\n",
      "Ba133     56133   2.156E-01\n",
      "La138     57138   4.296E-10\n",
      "Ce142     58142   4.432E-11\n",
      "Ce144     58144   6.159E+03\n",
      "Nd144     60144   1.402E-09\n",
      "Nd145     60145   1.864E-11\n",
      "Pm147     61147   2.062E+04\n",
      "Sm147     62147   2.436E-06\n",
      "Sm148     62148   4.287E-11\n",
      "Sm149     62149   1.736E-12\n",
      "Sm151     62151   1.215E+02\n",
      "Eu152     63152   2.864E-01\n",
      "Eu154     63154   5.043E+03\n",
      "Eu155     63155   1.905E+03\n",
      "Gd152     64152   2.120E-13\n",
      "Th230     90230   2.151E-05\n",
      "Th232     90232   5.396E-11\n",
      "Pa231     91231   1.134E-05\n",
      "U232     92232   3.780E-03\n",
      "U233     92233   1.463E-05\n",
      "U234     92234   3.073E-01\n",
      "U235     92235   1.704E-03\n",
      "U236     92236   1.221E-01\n",
      "U238     92238   1.316E-01\n",
      "Np236     93236   1.641E-05\n",
      "Np237     93237   2.147E-01\n",
      "Pu238     94238   3.159E+03\n",
      "Pu239     94239   1.926E+02\n",
      "Pu240     94240   3.205E+02\n",
      "Pu241     94241   6.698E+04\n",
      "Pu242     94242   2.279E+00\n",
      "Am241     95241   6.039E+02\n"
     ]
    },
    {
     "name": "stderr",
     "output_type": "stream",
     "text": [
      "//anaconda/lib/python3.5/importlib/_bootstrap.py:222: QAWarning: pyne.data is not yet QA compliant.\n",
      "  return f(*args, **kwds)\n",
      "//anaconda/lib/python3.5/re.py:203: FutureWarning: split() requires a non-empty pattern match.\n",
      "  return _compile(pattern, flags).split(string, maxsplit)\n"
     ]
    }
   ],
   "source": [
    "#Extrapolate between timesteps the activity of the isotopes\n",
    "#5 years\n",
    "import numpy as np\n",
    "import re\n",
    "from pyne import data\n",
    "from pyne import nucname\n",
    "filename1=\"nonactinide_step1.txt\"\n",
    "filename2=\"actinide_step1.txt\"\n",
    "LINE=[]\n",
    "file=open(filename1)\n",
    "for line in file:\n",
    "    LINE=np.append(LINE,line)\n",
    "file.close()    \n",
    "file=open(filename2)\n",
    "for line in file:\n",
    "    LINE=np.append(LINE,line)\n",
    "file.close()\n",
    "#initalize arrays \n",
    "zaid1=[]\n",
    "activity1=[]\n",
    "elements1=[]\n",
    "PYNEID1=[]\n",
    "#re expressions to read index array\n",
    "for i in range(len(LINE)):\n",
    "    y=re.split(r'\\s*',LINE[i])\n",
    "    #only take nonzero activities\n",
    "    if y[4]!='0.000E+00':\n",
    "        activity1=np.append(activity1,y[4]) \n",
    "        zaid1=np.append(zaid1,y[2]) #AAAZZZ \n",
    "print(\"List of nuclides with nonzero activity\")\n",
    "print(\"Element\",\"Zaid\",\"Activity [Ci]\")\n",
    "for i in range(len(zaid1)):\n",
    "    #name the element\n",
    "    y=nucname.mcnp_to_id(zaid1[i])\n",
    "    PYNEID1=np.append(PYNEID1,int(y))\n",
    "    x=nucname.name(y)\n",
    "    elements1=np.append(elements1,x)\n",
    "    print(elements1[i],\"   \",zaid1[i],\" \",activity1[i])\n"
   ]
  },
  {
   "cell_type": "code",
   "execution_count": 21,
   "metadata": {
    "collapsed": false
   },
   "outputs": [
    {
     "name": "stdout",
     "output_type": "stream",
     "text": [
      "[  6.01400000e+07   3.40790000e+08   3.40820000e+08   3.60850000e+08\n",
      "   3.70870000e+08   3.80900000e+08   3.90900000e+08   4.00930000e+08\n",
      "   4.10940000e+08   4.30990000e+08   4.41060000e+08   4.61070000e+08\n",
      "   4.81130000e+08   4.91150000e+08   5.01260000e+08   5.11250000e+08\n",
      "   5.21230000e+08   5.31290000e+08   5.51340000e+08   5.51350000e+08\n",
      "   5.51370000e+08   5.61330000e+08   5.71380000e+08   5.81420000e+08\n",
      "   5.81440000e+08   6.01440000e+08   6.01450000e+08   6.11470000e+08\n",
      "   6.21470000e+08   6.21480000e+08   6.21490000e+08   6.21510000e+08\n",
      "   6.31520000e+08   6.31540000e+08   6.31550000e+08   6.41520000e+08\n",
      "   9.02300000e+08   9.02320000e+08   9.12310000e+08   9.22320000e+08\n",
      "   9.22330000e+08   9.22340000e+08   9.22350000e+08   9.22360000e+08\n",
      "   9.22380000e+08   9.32360000e+08   9.32370000e+08   9.42380000e+08\n",
      "   9.42390000e+08   9.42400000e+08   9.42410000e+08   9.42420000e+08\n",
      "   9.52410000e+08]\n"
     ]
    }
   ],
   "source": [
    "print(PYNEID1)"
   ]
  },
  {
   "cell_type": "code",
   "execution_count": 20,
   "metadata": {
    "collapsed": false,
    "scrolled": true
   },
   "outputs": [
    {
     "name": "stdout",
     "output_type": "stream",
     "text": [
      "-----------------------------------------------------\n",
      "SUM of total Activities 1.20473571587e+16 [Ci]\n",
      "-----------------------------------------------------\n",
      "Cutoff of Activities [5% of total] 6.02367857935e+14 [Ci]\n",
      "-----------------------------------------------------\n",
      "Activities that are greater than 5% of total activity\n",
      "Sr90 1.6317e+15\n",
      "Y90 1.63207e+15\n",
      "Cs134 1.32719e+15\n",
      "Cs137 2.80645e+15\n",
      "Pm147 7.6294e+14\n",
      "Pu241 2.47826e+15\n"
     ]
    }
   ],
   "source": [
    "BQ_activity1=[]\n",
    "Bq=3.7e10\n",
    "for i in range(len(activity1)):\n",
    "    string=activity1[i]\n",
    "    BQ_activity1=np.append(BQ_activity1, float(string.replace(\"E\",\"e\")))\n",
    "ACTIVITY1=BQ_activity1*Bq\n",
    "\n",
    "summ=0\n",
    "for i in range(len(elements1)):\n",
    "    summ+=ACTIVITY1[i]\n",
    "print(\"-----------------------------------------------------\")\n",
    "print(\"SUM of total Activities\",summ,\"[Ci]\")\n",
    "print(\"-----------------------------------------------------\")\n",
    "print(\"Cutoff of Activities [5% of total]\",summ*.05,\"[Ci]\")\n",
    "print(\"-----------------------------------------------------\")\n",
    "#only print the activities that are greater than 5% of the total activity\n",
    "print(\"Activities that are greater than 5% of total activity\")\n",
    "for i in range(len(elements1)):\n",
    "    if (ACTIVITY1[i]>=summ*0.05):\n",
    "        print(elements1[i],ACTIVITY1[i])\n",
    "\n"
   ]
  },
  {
   "cell_type": "code",
   "execution_count": null,
   "metadata": {
    "collapsed": true
   },
   "outputs": [],
   "source": []
  },
  {
   "cell_type": "code",
   "execution_count": 131,
   "metadata": {
    "collapsed": false
   },
   "outputs": [
    {
     "name": "stdout",
     "output_type": "stream",
     "text": [
      "List of nuclides with nonzero and gamma emission activity\n",
      "Element Zaid Activity [Ci]\n",
      "Kr85\n",
      "Y90\n",
      "Zr93\n",
      "Nb94\n",
      "Tc99\n",
      "In115\n",
      "Sn126\n",
      "Sb125\n",
      "I129\n",
      "Cs134\n",
      "Cs137\n",
      "Ba133\n",
      "La138\n",
      "Ce144\n",
      "Pm147\n",
      "Sm151\n",
      "Eu152\n",
      "Eu154\n",
      "Eu155\n",
      "Th230\n",
      "Th232\n",
      "Pa231\n",
      "U232\n",
      "U233\n",
      "U234\n",
      "U235\n",
      "U236\n",
      "U238\n",
      "Np236\n",
      "Np237\n",
      "Pu238\n"
     ]
    }
   ],
   "source": [
    "#find the gamma emitters from the last timestep\n",
    "gammaemitters1=[]\n",
    "print(\"List of nuclides with nonzero and gamma emission activity\")\n",
    "print(\"Element\",\"Zaid\",\"Activity [Ci]\")\n",
    "for i in range(len(PYNEID)):\n",
    "    decaypairs1=data.gamma_from_to_byparent(int(PYNEID1[i]))\n",
    "    energies1=data.gamma_energy(int(PYNEID1[i]))\n",
    "    intensities1 = data.gamma_photon_intensity(int(PYNEID1[i]))\n",
    "    #only append to arrays the gamma emitters\n",
    "    if decaypairs1!=[]:\n",
    "        gammaemitters1=np.append(gammaemitters1,elements1[i])\n",
    "        print(elements1[i]) #,\"   \",zaid1[i],\" \",activity1[i])"
   ]
  },
  {
   "cell_type": "code",
   "execution_count": 132,
   "metadata": {
    "collapsed": false
   },
   "outputs": [
    {
     "name": "stdout",
     "output_type": "stream",
     "text": [
      "['Kr85' 'Y90' 'Zr93' 'Nb94' 'Tc99' 'In115' 'Sn126' 'Sb125' 'I129' 'Cs134'\n",
      " 'Cs137' 'Ba133' 'La138' 'Ce144' 'Pm147' 'Sm151' 'Eu152' 'Eu154' 'Eu155'\n",
      " 'Th230' 'Th232' 'Pa231' 'U232' 'U233' 'U234' 'U235' 'U236' 'U238' 'Np236'\n",
      " 'Np237' 'Pu238']\n"
     ]
    },
    {
     "data": {
      "text/plain": [
       "set([641550000])"
      ]
     },
     "execution_count": 132,
     "metadata": {},
     "output_type": "execute_result"
    }
   ],
   "source": [
    "print(gammaemitters1)\n",
    "data.decay_children(\"Eu155\")"
   ]
  },
  {
   "cell_type": "code",
   "execution_count": 16,
   "metadata": {
    "collapsed": false
   },
   "outputs": [
    {
     "data": {
      "text/plain": [
       "[(641550005, 641550004),\n",
       " (0, 0),\n",
       " (0, 0),\n",
       " (641550003, 641550002),\n",
       " (641550004, 641550002),\n",
       " (0, 0),\n",
       " (641550002, 641550001),\n",
       " (641550005, 641550002),\n",
       " (0, 0),\n",
       " (641550003, 641550001),\n",
       " (641550005, 641550001),\n",
       " (641550001, 641550000),\n",
       " (641550007, 641550001),\n",
       " (641550002, 641550000),\n",
       " (641550003, 641550000),\n",
       " (0, 0),\n",
       " (641550007, 641550000)]"
      ]
     },
     "execution_count": 16,
     "metadata": {},
     "output_type": "execute_result"
    }
   ],
   "source": [
    "data.gamma_from_to_byparent(z)"
   ]
  },
  {
   "cell_type": "code",
   "execution_count": 66,
   "metadata": {
    "collapsed": false
   },
   "outputs": [
    {
     "name": "stdout",
     "output_type": "stream",
     "text": [
      "List of nuclides with nonzero activity\n",
      "Element Zaid Activity [Ci]\n",
      "C14     6014   1.781E-03\n",
      "Se79     34079   4.338E-01\n",
      "Se82     34082   7.665E-16\n",
      "Kr85     36085   1.179E+03\n",
      "Rb87     37087   1.436E-05\n",
      "Sr90     38090   2.696E+04\n",
      "Y90     39090   2.697E+04\n",
      "Zr93     40093   1.266E+00\n",
      "Nb94     41094   4.523E-04\n",
      "Tc99     43099   9.521E+00\n",
      "Pd107     46107   1.230E-01\n",
      "Cd113     48113   2.411E-14\n",
      "In115     49115   4.141E-12\n",
      "Sn126     50126   5.068E-01\n",
      "Sb125     51125   1.126E+01\n",
      "Te123     52123   1.099E-12\n",
      "I129     53129   2.373E-02\n",
      "Cs134     55134   4.334E+01\n",
      "Cs135     55135   3.074E-01\n",
      "Cs137     55137   4.780E+04\n",
      "Ba133     56133   5.778E-02\n",
      "La138     57138   4.296E-10\n",
      "Ce142     58142   4.432E-11\n",
      "Nd144     60144   1.405E-09\n",
      "Nd145     60145   1.864E-11\n",
      "Pm147     61147   1.049E+02\n",
      "Sm147     62147   2.944E-06\n",
      "Sm148     62148   4.287E-11\n",
      "Sm149     62149   1.736E-12\n",
      "Sm151     62151   1.042E+02\n",
      "Eu152     63152   1.013E-01\n",
      "Eu154     63154   1.006E+03\n",
      "Eu155     63155   9.871E+01\n",
      "Gd152     64152   2.184E-13\n",
      "Th230     90230   9.351E-05\n",
      "Th232     90232   1.744E-10\n",
      "Pa231     91231   1.206E-05\n",
      "U232     92232   4.533E-03\n",
      "U233     92233   3.363E-05\n",
      "U234     92234   4.721E-01\n",
      "U235     92235   1.708E-03\n",
      "U236     92236   1.223E-01\n",
      "U238     92238   1.316E-01\n",
      "Np236     93236   1.641E-05\n",
      "Np237     93237   2.236E-01\n",
      "Pu238     94238   2.697E+03\n",
      "Pu239     94239   1.925E+02\n",
      "Pu240     94240   3.198E+02\n",
      "Pu241     94241   2.551E+04\n",
      "Pu242     94242   2.279E+00\n",
      "Am241     95241   1.935E+03\n"
     ]
    },
    {
     "name": "stderr",
     "output_type": "stream",
     "text": [
      "//anaconda/lib/python3.5/re.py:203: FutureWarning: split() requires a non-empty pattern match.\n",
      "  return _compile(pattern, flags).split(string, maxsplit)\n"
     ]
    }
   ],
   "source": [
    "#Extrapolate between timesteps the activity of the isotopes\n",
    "filename1=\"nonactinide_step2.txt\"\n",
    "filename2=\"actinide_step2.txt\"\n",
    "LINE=[]\n",
    "file=open(filename1)\n",
    "for line in file:\n",
    "    LINE=np.append(LINE,line)\n",
    "file.close()    \n",
    "file=open(filename2)\n",
    "for line in file:\n",
    "    LINE=np.append(LINE,line)\n",
    "file.close()\n",
    "#initalize arrays \n",
    "zaid=[]\n",
    "activity2=[]\n",
    "elements2=[]\n",
    "PYNEID=[]\n",
    "#re expressions to read index array\n",
    "for i in range(len(LINE)):\n",
    "    y=re.split(r'\\s*',LINE[i])\n",
    "    #only take nonzero activities\n",
    "    if y[4]!='0.000E+00':\n",
    "        activity2=np.append(activity2,y[4]) \n",
    "        zaid=np.append(zaid,y[2]) #AAAZZZ \n",
    "print(\"List of nuclides with nonzero activity\")\n",
    "print(\"Element\",\"Zaid\",\"Activity [Ci]\")\n",
    "for i in range(len(zaid)):\n",
    "    #name the element\n",
    "    y=nucname.mcnp_to_id(zaid[i])\n",
    "    PYNEID=np.append(PYNEID,int(y))\n",
    "    x=nucname.name(y)\n",
    "    elements2=np.append(elements2,x)\n",
    "    print(elements2[i],\"   \",zaid[i],\" \",activity2[i])"
   ]
  },
  {
   "cell_type": "code",
   "execution_count": 67,
   "metadata": {
    "collapsed": false
   },
   "outputs": [
    {
     "name": "stdout",
     "output_type": "stream",
     "text": [
      "List of nuclides with nonzero activity\n",
      "Element Zaid Activity [Ci]\n",
      "C14     6014   1.775E-03\n",
      "Se79     34079   4.336E-01\n",
      "Se82     34082   7.665E-16\n",
      "Kr85     36085   2.344E+02\n",
      "Rb87     37087   1.436E-05\n",
      "Sr90     38090   1.457E+04\n",
      "Y90     39090   1.458E+04\n",
      "Zr93     40093   1.266E+00\n",
      "Nb94     41094   4.519E-04\n",
      "Tc99     43099   9.520E+00\n",
      "Pd107     46107   1.230E-01\n",
      "Cd113     48113   2.411E-14\n",
      "In115     49115   4.141E-12\n",
      "Sn126     50126   5.067E-01\n",
      "Te123     52123   1.099E-12\n",
      "I129     53129   2.373E-02\n",
      "Cs135     55135   3.074E-01\n",
      "Cs137     55137   2.684E+04\n",
      "La138     57138   4.296E-10\n",
      "Ce142     58142   4.432E-11\n",
      "Nd144     60144   1.405E-09\n",
      "Nd145     60145   1.864E-11\n",
      "Pm147     61147   1.425E-01\n",
      "Sm147     62147   2.946E-06\n",
      "Sm148     62148   4.287E-11\n",
      "Sm149     62149   1.736E-12\n",
      "Sm151     62151   8.596E+01\n",
      "Eu152     63152   2.763E-02\n",
      "Eu154     63154   1.340E+02\n",
      "Eu155     63155   2.440E+00\n",
      "Gd152     64152   2.209E-13\n",
      "Th230     90230   2.224E-04\n",
      "Th232     90232   3.253E-10\n",
      "Pa231     91231   1.296E-05\n",
      "U232     92232   3.549E-03\n",
      "U233     92233   5.889E-05\n",
      "U234     92234   6.445E-01\n",
      "U235     92235   1.713E-03\n",
      "U236     92236   1.225E-01\n",
      "U238     92238   1.316E-01\n",
      "Np236     93236   1.641E-05\n",
      "Np237     93237   2.418E-01\n",
      "Pu238     94238   2.214E+03\n",
      "Pu239     94239   1.924E+02\n",
      "Pu240     94240   3.190E+02\n",
      "Pu241     94241   7.631E+03\n",
      "Pu242     94242   2.279E+00\n",
      "Am241     95241   2.438E+03\n"
     ]
    },
    {
     "name": "stderr",
     "output_type": "stream",
     "text": [
      "//anaconda/lib/python3.5/re.py:203: FutureWarning: split() requires a non-empty pattern match.\n",
      "  return _compile(pattern, flags).split(string, maxsplit)\n"
     ]
    }
   ],
   "source": [
    "#Extrapolate between timesteps the activity of the isotopes\n",
    "filename1=\"nonactinide_step3.txt\"\n",
    "filename2=\"actinide_step3.txt\"\n",
    "LINE=[]\n",
    "file=open(filename1)\n",
    "for line in file:\n",
    "    LINE=np.append(LINE,line)\n",
    "file.close()    \n",
    "file=open(filename2)\n",
    "for line in file:\n",
    "    LINE=np.append(LINE,line)\n",
    "file.close()\n",
    "#initalize arrays \n",
    "zaid=[]\n",
    "activity3=[]\n",
    "elements3=[]\n",
    "PYNEID=[]\n",
    "#re expressions to read index array\n",
    "for i in range(len(LINE)):\n",
    "    y=re.split(r'\\s*',LINE[i])\n",
    "    #only take nonzero activities\n",
    "    if y[4]!='0.000E+00':\n",
    "        activity3=np.append(activity3,y[4]) \n",
    "        zaid=np.append(zaid,y[2]) #AAAZZZ \n",
    "print(\"List of nuclides with nonzero activity\")\n",
    "print(\"Element\",\"Zaid\",\"Activity [Ci]\")\n",
    "for i in range(len(zaid)):\n",
    "    #name the element\n",
    "    y=nucname.mcnp_to_id(zaid[i])\n",
    "    PYNEID=np.append(PYNEID,int(y))\n",
    "    x=nucname.name(y)\n",
    "    elements3=np.append(elements3,x)\n",
    "    print(elements3[i],\"   \",zaid[i],\" \",activity3[i])"
   ]
  },
  {
   "cell_type": "code",
   "execution_count": 78,
   "metadata": {
    "collapsed": false
   },
   "outputs": [
    {
     "name": "stdout",
     "output_type": "stream",
     "text": [
      "gamma emitters      decay constant [1/yrs]\n",
      "C14            0.000121495731114\n",
      "Se79            2.11781549649e-06\n",
      "Se82            0.0\n",
      "Kr85            0.0644869789879\n",
      "Rb87            1.39341180554e-11\n",
      "Sr90            0.0240543823324\n",
      "Y90            94.854375\n",
      "Zr93            4.30140166057e-07\n",
      "Nb94            3.41145648941e-05\n",
      "Tc99            3.280557401e-06\n",
      "Ru106            0.680325443787\n",
      "Pd107            1.06542410362e-07\n",
      "Cd113            8.61350332526e-17\n",
      "In115            1.57035298719e-15\n",
      "Sn126            3.0109811624e-06\n",
      "Sb125            0.251046077428\n",
      "Te123            7.52745290599e-18\n",
      "I129            4.41099151179e-08\n",
      "Cs134            0.335331041716\n",
      "Cs135            3.0109811624e-07\n",
      "Cs137            0.0230227947923\n",
      "Ba133            0.0656360219269\n",
      "La138            6.78946732697e-12\n",
      "Ce142            1.3850513347e-17\n",
      "Ce144            0.887806675792\n",
      "Nd144            3.02412955175e-16\n",
      "Nd145            0.0\n",
      "Pm147            0.263980204068\n",
      "Sm147            6.53326101275e-12\n",
      "Sm148            9.8932238193e-17\n",
      "Sm149            0.0\n",
      "Sm151            0.00769472963723\n",
      "Eu152            0.0512336810943\n",
      "Eu154            0.080516877962\n",
      "Eu155            0.145702854482\n",
      "Gd152            6.4122746977e-15\n",
      "Th230            9.18469054842e-06\n",
      "Th232            4.94661190965e-11\n",
      "Pa231            2.11393671353e-05\n",
      "U232            0.0100511707888\n",
      "U233            4.35003559894e-06\n",
      "U234            2.82087848208e-06\n",
      "U235            9.83701232033e-10\n",
      "U236            2.95698406213e-08\n",
      "U238            1.54996792156e-10\n",
      "Np236            4.52631155131e-06\n",
      "Np237            3.23006374697e-07\n",
      "Pu238            0.00789652984437\n"
     ]
    }
   ],
   "source": [
    "\n",
    "#z=nucname.id(\"Eu155\")\n",
    "#data.half_life(\"Eu155\")\n",
    "\n",
    "decayconstants=[]\n",
    "sectoyrs=60*60*24*365\n",
    "print(\"gamma emitters\",\"    \",\"decay constant [1/yrs]\")\n",
    "for i in range(len(gammaemitters1)):\n",
    "    y=data.half_life(str(gammaemitters1[i]))\n",
    "    decayconstants=np.append(decayconstants,(0.693/(y/sectoyrs)))\n",
    "    print(gammaemitters1[i], \"          \",decayconstants[i])"
   ]
  },
  {
   "cell_type": "code",
   "execution_count": 1,
   "metadata": {
    "collapsed": false
   },
   "outputs": [
    {
     "ename": "NameError",
     "evalue": "name 'activity1' is not defined",
     "output_type": "error",
     "traceback": [
      "\u001b[0;31m---------------------------------------------------------------------------\u001b[0m",
      "\u001b[0;31mNameError\u001b[0m                                 Traceback (most recent call last)",
      "\u001b[0;32m<ipython-input-1-d162b7de5eef>\u001b[0m in \u001b[0;36m<module>\u001b[0;34m()\u001b[0m\n\u001b[0;32m----> 1\u001b[0;31m \u001b[0mprint\u001b[0m\u001b[0;34m(\u001b[0m\u001b[0mactivity1\u001b[0m\u001b[0;34m)\u001b[0m\u001b[0;34m\u001b[0m\u001b[0m\n\u001b[0m",
      "\u001b[0;31mNameError\u001b[0m: name 'activity1' is not defined"
     ]
    }
   ],
   "source": []
  },
  {
   "cell_type": "code",
   "execution_count": 52,
   "metadata": {
    "collapsed": false
   },
   "outputs": [
    {
     "name": "stdout",
     "output_type": "stream",
     "text": [
      "Kr85\n",
      "Y90\n",
      "Zr93\n",
      "Nb94\n",
      "Tc99\n",
      "In115\n",
      "Sn126\n",
      "I129\n",
      "Cs137\n",
      "La138\n",
      "Pm147\n",
      "Sm151\n",
      "Eu152\n",
      "Eu154\n",
      "Eu155\n",
      "Th230\n",
      "Th232\n",
      "Pa231\n",
      "U232\n",
      "U233\n",
      "U234\n",
      "U235\n",
      "U236\n",
      "U238\n",
      "Np236\n",
      "Np237\n",
      "Pu238\n",
      "Pu239\n",
      "Pu240\n",
      "Pu241\n",
      "Pu242\n",
      "Am241\n"
     ]
    }
   ],
   "source": [
    "for i in range(len(gammaemitters)):\n",
    "    print(gammaemitters1[i])"
   ]
  },
  {
   "cell_type": "code",
   "execution_count": 83,
   "metadata": {
    "collapsed": false,
    "scrolled": true
   },
   "outputs": [
    {
     "name": "stdout",
     "output_type": "stream",
     "text": [
      "C14\n",
      "Se79\n",
      "Se82\n",
      "Kr85\n",
      "Rb87\n",
      "Sr90\n",
      "Y90\n",
      "Zr93\n",
      "Nb94\n",
      "Tc99\n",
      "Ru106\n",
      "Pd107\n",
      "Cd113\n",
      "In115\n",
      "Sn126\n",
      "Sb125\n",
      "Te123\n",
      "I129\n",
      "Cs134\n",
      "Cs135\n",
      "Cs137\n",
      "Ba133\n",
      "La138\n",
      "Ce142\n",
      "Ce144\n",
      "Nd144\n",
      "Nd145\n",
      "Pm147\n",
      "Sm147\n",
      "Sm148\n",
      "Sm149\n",
      "Sm151\n",
      "Eu152\n",
      "Eu154\n",
      "Eu155\n",
      "Gd152\n",
      "Th230\n",
      "Th232\n",
      "Pa231\n",
      "U232\n",
      "U233\n",
      "U234\n",
      "U235\n",
      "U236\n",
      "U238\n",
      "Np236\n",
      "Np237\n",
      "Pu238\n",
      "53\n"
     ]
    }
   ],
   "source": [
    "k=0\n",
    "for i in range(len(elements1)):\n",
    "    for j in range(len(gammaemitters1)):\n",
    "        if elements1[i]==gammaemitters1[j]:\n",
    "            print(elements1[i])\n",
    "    k+=1\n",
    "print(k)"
   ]
  },
  {
   "cell_type": "code",
   "execution_count": 82,
   "metadata": {
    "collapsed": false
   },
   "outputs": [
    {
     "name": "stdout",
     "output_type": "stream",
     "text": [
      "C14\n",
      "Se79\n",
      "Se82\n",
      "Kr85\n",
      "Rb87\n",
      "Sr90\n",
      "Y90\n",
      "Zr93\n",
      "Nb94\n",
      "Tc99\n",
      "Pd107\n",
      "Cd113\n",
      "In115\n",
      "Sn126\n",
      "Sb125\n",
      "Te123\n",
      "I129\n",
      "Cs134\n",
      "Cs135\n",
      "Cs137\n",
      "Ba133\n",
      "La138\n",
      "Ce142\n",
      "Nd144\n",
      "Nd145\n",
      "Pm147\n",
      "Sm147\n",
      "Sm148\n",
      "Sm149\n",
      "Sm151\n",
      "Eu152\n",
      "Eu154\n",
      "Eu155\n",
      "Gd152\n",
      "Th230\n",
      "Th232\n",
      "Pa231\n",
      "U232\n",
      "U233\n",
      "U234\n",
      "U235\n",
      "U236\n",
      "U238\n",
      "Np236\n",
      "Np237\n",
      "Pu238\n",
      "51\n"
     ]
    }
   ],
   "source": [
    "k=0\n",
    "for i in range(len(elements2)):\n",
    "    for j in range(len(gammaemitters1)):\n",
    "        if elements2[i]==gammaemitters1[j]:\n",
    "            print(elements2[i])\n",
    "    k+=1\n",
    "    \n",
    "print(k)"
   ]
  },
  {
   "cell_type": "code",
   "execution_count": 81,
   "metadata": {
    "collapsed": false,
    "scrolled": true
   },
   "outputs": [
    {
     "name": "stdout",
     "output_type": "stream",
     "text": [
      "C14\n",
      "Se79\n",
      "Se82\n",
      "Kr85\n",
      "Rb87\n",
      "Sr90\n",
      "Y90\n",
      "Zr93\n",
      "Nb94\n",
      "Tc99\n",
      "Pd107\n",
      "Cd113\n",
      "In115\n",
      "Sn126\n",
      "Te123\n",
      "I129\n",
      "Cs135\n",
      "Cs137\n",
      "La138\n",
      "Ce142\n",
      "Nd144\n",
      "Nd145\n",
      "Pm147\n",
      "Sm147\n",
      "Sm148\n",
      "Sm149\n",
      "Sm151\n",
      "Eu152\n",
      "Eu154\n",
      "Eu155\n",
      "Gd152\n",
      "Th230\n",
      "Th232\n",
      "Pa231\n",
      "U232\n",
      "U233\n",
      "U234\n",
      "U235\n",
      "U236\n",
      "U238\n",
      "Np236\n",
      "Np237\n",
      "Pu238\n",
      "47\n"
     ]
    }
   ],
   "source": [
    "k=0\n",
    "for i in range(len(elements3)):\n",
    "    for j in range(len(gammaemitters1)):\n",
    "        if gammaemitters1[j]==elements3[i]:\n",
    "            print(elements3[i])\n",
    "print(i)\n"
   ]
  },
  {
   "cell_type": "code",
   "execution_count": null,
   "metadata": {
    "collapsed": true
   },
   "outputs": [],
   "source": [
    "#step  1, time 1.825E+03 (days) 5YRS\n",
    "#step  2, time 9.125E+03 (days) 25.08 YRS\n",
    "#step  3, time 1.825E+04 (days) 49.86 YRS\n",
    "#50-5=45 ye\n",
    "A=math.exp(-lamb*t)\n",
    "\n",
    "\n",
    "#you have arrays of elements and activites from different timesteps 1-3\n",
    "\n",
    "#you need to determine which are gamma emitters\n",
    "\n",
    "#you need to determine a half life cutoff date that you can input\n",
    "\n",
    "#you need to interpolate between the timstep days and activities to get activities at any point in time\n",
    "#during the 45 yrs in storage\n",
    "\n"
   ]
  },
  {
   "cell_type": "code",
   "execution_count": 99,
   "metadata": {
    "collapsed": false
   },
   "outputs": [
    {
     "name": "stdout",
     "output_type": "stream",
     "text": [
      "Ru106\n",
      "Pd107\n"
     ]
    }
   ],
   "source": [
    "print(elements1[10])\n",
    "print(elements2[10])"
   ]
  },
  {
   "cell_type": "code",
   "execution_count": 146,
   "metadata": {
    "collapsed": false
   },
   "outputs": [
    {
     "name": "stdout",
     "output_type": "stream",
     "text": [
      "35470.961691061384\n"
     ]
    }
   ],
   "source": [
    "#using Cs137, it appears that the excel sheet extrapolation is correct\n",
    "#the error present is the activity computed here is less than the excel sheet\n",
    "#this error might be attributed to the excel sheet using days to compute the activity\n",
    "#and here I am using years so i might be leaving some time off here in the activity computation\n",
    "import math\n",
    "lamb=0.693/30.2\n",
    "#time specified in years\n",
    "#time specified after year 25\n",
    "#eg. 2 years means the A(27)\n",
    "t=13 #yrs\n",
    "#A_0=activity at year 25\n",
    "A=4.780e+04*math.exp(-lamb*t)\n",
    "print(A)"
   ]
  },
  {
   "cell_type": "code",
   "execution_count": null,
   "metadata": {
    "collapsed": true
   },
   "outputs": [],
   "source": []
  }
 ],
 "metadata": {
  "anaconda-cloud": {},
  "kernelspec": {
   "display_name": "Python [conda root]",
   "language": "python",
   "name": "conda-root-py"
  },
  "language_info": {
   "codemirror_mode": {
    "name": "ipython",
    "version": 3
   },
   "file_extension": ".py",
   "mimetype": "text/x-python",
   "name": "python",
   "nbconvert_exporter": "python",
   "pygments_lexer": "ipython3",
   "version": "3.5.2"
  }
 },
 "nbformat": 4,
 "nbformat_minor": 1
}
